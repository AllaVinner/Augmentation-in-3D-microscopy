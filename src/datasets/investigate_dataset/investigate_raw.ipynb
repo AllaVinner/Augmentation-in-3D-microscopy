{
 "cells": [
  {
   "cell_type": "code",
   "execution_count": 7,
   "metadata": {},
   "outputs": [],
   "source": [
    "import skimage.io\n",
    "import jview\n",
    "import os\n",
    "from collections import defaultdict"
   ]
  },
  {
   "cell_type": "code",
   "execution_count": 13,
   "metadata": {},
   "outputs": [],
   "source": [
    "dataset = 'SAM'\n",
    "DATASET_PATH = os.path.join('/scratch/ottosson/datasets', dataset)\n",
    "RAW_PATH = os.path.join(DATASET_PATH, 'raw')\n"
   ]
  },
  {
   "cell_type": "code",
   "execution_count": 14,
   "metadata": {},
   "outputs": [
    {
     "name": "stdout",
     "output_type": "stream",
     "text": [
      "Raw path exist:  True\n",
      "Raw dir has 124 files\n"
     ]
    }
   ],
   "source": [
    "print(\"Raw path exist: \", os.path.isdir(RAW_PATH))\n",
    "print(f\"Raw dir has {len(os.listdir(RAW_PATH))} files\")"
   ]
  },
  {
   "cell_type": "markdown",
   "metadata": {},
   "source": [
    "# What is in the dir"
   ]
  },
  {
   "cell_type": "code",
   "execution_count": 15,
   "metadata": {},
   "outputs": [
    {
     "name": "stdout",
     "output_type": "stream",
     "text": [
      "Number of different files (based on extentions)\n",
      "tif :  124\n"
     ]
    }
   ],
   "source": [
    "files = os.listdir(RAW_PATH)\n",
    "num_file_types = defaultdict(int)\n",
    "for f in files:\n",
    "    num_file_types[jview.get_extention(f)] +=1\n",
    "print(\"Number of different files (based on extentions)\")\n",
    "jview.print_dir(num_file_types)"
   ]
  },
  {
   "cell_type": "markdown",
   "metadata": {},
   "source": [
    "# What is in the files?"
   ]
  },
  {
   "cell_type": "code",
   "execution_count": 16,
   "metadata": {},
   "outputs": [],
   "source": [
    "ndims = []\n",
    "shapes = []\n",
    "dtypes = []\n",
    "mins = []\n",
    "maxs = []\n",
    "for f in files:\n",
    "    if jview.get_extention(f) != 'tif': continue\n",
    "    im = skimage.io.imread(os.path.join(RAW_PATH, f))\n",
    "    ndims.append(im.ndim)\n",
    "    shapes.append(im.shape)\n",
    "    dtypes.append(im.dtype)\n",
    "    mins.append(im.min())\n",
    "    maxs.append(im.max())\n"
   ]
  },
  {
   "cell_type": "code",
   "execution_count": 17,
   "metadata": {},
   "outputs": [
    {
     "name": "stdout",
     "output_type": "stream",
     "text": [
      "Ndims:  [3, 3, 3, 3, 3, 3, 3, 3, 3, 3, 3, 3, 3, 3, 3, 3, 3, 3, 3, 3, 3, 3, 3, 3, 3, 3, 3, 3, 3, 3, 3, 3, 3, 3, 3, 3, 3, 3, 3, 3, 3, 3, 3, 3, 3, 3, 3, 3, 3, 3, 3, 3, 3, 3, 3, 3, 3, 3, 3, 3, 3, 3, 3, 3, 3, 3, 3, 3, 3, 3, 3, 3, 3, 3, 3, 3, 3, 3, 3, 3, 3, 3, 3, 3, 3, 3, 3, 3, 3, 3, 3, 3, 3, 3, 3, 3, 3, 3, 3, 3, 3, 3, 3, 3, 3, 3, 3, 3, 3, 3, 3, 3, 3, 3, 3, 3, 3, 3, 3, 3, 3, 3, 3, 3]\n",
      "dtypes:  [dtype('uint8'), dtype('uint8'), dtype('uint8'), dtype('uint8'), dtype('uint8'), dtype('uint8'), dtype('uint8'), dtype('uint8'), dtype('uint8'), dtype('uint8'), dtype('uint8'), dtype('uint8'), dtype('uint8'), dtype('uint8'), dtype('uint8'), dtype('uint8'), dtype('uint8'), dtype('uint8'), dtype('uint8'), dtype('uint8'), dtype('uint8'), dtype('uint8'), dtype('uint8'), dtype('uint8'), dtype('uint8'), dtype('uint8'), dtype('uint8'), dtype('uint8'), dtype('uint8'), dtype('uint8'), dtype('uint8'), dtype('uint8'), dtype('uint8'), dtype('uint8'), dtype('uint8'), dtype('uint8'), dtype('uint8'), dtype('uint8'), dtype('uint8'), dtype('uint8'), dtype('uint8'), dtype('uint8'), dtype('uint8'), dtype('uint8'), dtype('uint8'), dtype('uint8'), dtype('uint8'), dtype('uint8'), dtype('uint8'), dtype('uint8'), dtype('uint8'), dtype('uint8'), dtype('uint8'), dtype('uint8'), dtype('uint8'), dtype('uint8'), dtype('uint8'), dtype('uint8'), dtype('uint8'), dtype('uint8'), dtype('uint8'), dtype('uint8'), dtype('uint8'), dtype('uint8'), dtype('uint8'), dtype('uint8'), dtype('uint8'), dtype('uint8'), dtype('uint8'), dtype('uint8'), dtype('uint8'), dtype('uint8'), dtype('uint8'), dtype('uint8'), dtype('uint8'), dtype('uint8'), dtype('uint8'), dtype('uint8'), dtype('uint8'), dtype('uint8'), dtype('uint8'), dtype('uint8'), dtype('uint8'), dtype('uint8'), dtype('uint8'), dtype('uint8'), dtype('uint8'), dtype('uint8'), dtype('uint8'), dtype('uint8'), dtype('uint8'), dtype('uint8'), dtype('uint8'), dtype('uint8'), dtype('uint8'), dtype('uint8'), dtype('uint8'), dtype('uint8'), dtype('uint8'), dtype('uint8'), dtype('uint8'), dtype('uint8'), dtype('uint8'), dtype('uint8'), dtype('uint8'), dtype('uint8'), dtype('uint8'), dtype('uint8'), dtype('uint8'), dtype('uint8'), dtype('uint8'), dtype('uint8'), dtype('uint8'), dtype('uint8'), dtype('uint8'), dtype('uint8'), dtype('uint8'), dtype('uint8'), dtype('uint8'), dtype('uint8'), dtype('uint8'), dtype('uint8'), dtype('uint8'), dtype('uint8')]\n",
      "mins:  [0, 0, 0, 0, 0, 0, 0, 0, 0, 0, 0, 0, 0, 0, 0, 0, 0, 0, 0, 0, 0, 0, 0, 0, 0, 0, 0, 0, 0, 0, 0, 0, 0, 0, 0, 0, 0, 0, 0, 0, 0, 0, 0, 0, 0, 0, 0, 0, 0, 0, 0, 0, 0, 0, 0, 0, 0, 0, 0, 0, 0, 0, 0, 0, 0, 0, 0, 0, 0, 0, 0, 0, 0, 0, 0, 0, 0, 0, 0, 0, 0, 0, 0, 0, 0, 0, 0, 0, 0, 0, 0, 0, 0, 0, 0, 0, 0, 0, 0, 0, 0, 0, 0, 0, 0, 0, 0, 0, 0, 0, 0, 0, 0, 0, 0, 0, 0, 0, 0, 0, 0, 0, 0, 0]\n",
      "maxs:  [255, 255, 255, 255, 255, 255, 255, 255, 255, 255, 255, 255, 255, 255, 255, 255, 255, 255, 255, 255, 255, 255, 255, 255, 255, 255, 255, 255, 255, 255, 255, 255, 255, 255, 242, 255, 255, 255, 255, 255, 255, 255, 255, 255, 255, 255, 255, 255, 255, 255, 255, 255, 255, 255, 255, 255, 255, 255, 255, 255, 255, 255, 255, 255, 255, 255, 255, 255, 255, 255, 255, 255, 255, 255, 255, 255, 255, 255, 255, 255, 255, 254, 255, 255, 255, 255, 255, 255, 255, 255, 255, 255, 255, 255, 255, 255, 255, 255, 255, 255, 255, 255, 255, 255, 255, 255, 255, 255, 255, 255, 255, 255, 222, 250, 255, 255, 255, 255, 254, 255, 255, 255, 255, 255]\n",
      "shapes: \n",
      " [(294, 512, 512), (114, 512, 512), (289, 512, 512), (165, 512, 512), (174, 512, 512), (182, 512, 512), (192, 512, 512), (134, 512, 512), (170, 512, 512), (184, 512, 512), (134, 512, 512), (239, 512, 512), (307, 512, 512), (180, 512, 512), (161, 512, 512), (157, 512, 512), (189, 512, 512), (217, 512, 512), (189, 512, 512), (194, 512, 512), (179, 512, 512), (259, 512, 512), (184, 512, 512), (129, 512, 512), (221, 512, 512), (321, 512, 512), (179, 512, 512), (169, 512, 512), (189, 512, 512), (196, 512, 512), (199, 512, 512), (207, 512, 512), (194, 512, 512), (185, 512, 512), (215, 512, 512), (204, 512, 512), (149, 512, 512), (179, 512, 512), (194, 512, 512), (128, 384, 389), (119, 512, 512), (219, 512, 512), (174, 512, 512), (204, 512, 512), (144, 383, 393), (149, 512, 512), (219, 512, 512), (174, 512, 512), (219, 512, 512), (199, 512, 512), (179, 512, 512), (159, 512, 512), (124, 512, 512), (215, 512, 512), (219, 512, 512), (204, 512, 512), (229, 512, 512), (159, 512, 512), (179, 512, 512), (206, 512, 512), (236, 512, 512), (144, 512, 512), (224, 512, 512), (396, 512, 512), (179, 512, 512), (149, 512, 512), (144, 512, 512), (176, 512, 512), (179, 512, 512), (184, 512, 512), (134, 512, 512), (144, 512, 512), (288, 512, 512), (194, 512, 512), (233, 512, 512), (214, 512, 512), (259, 512, 512), (259, 512, 512), (174, 512, 512), (134, 512, 512), (219, 512, 512), (140, 391, 383), (259, 512, 512), (201, 512, 512), (234, 512, 512), (219, 512, 512), (186, 512, 512), (245, 512, 512), (171, 512, 512), (139, 512, 512), (244, 512, 512), (119, 380, 355), (209, 512, 512), (297, 512, 512), (203, 512, 512), (107, 367, 326), (139, 512, 512), (211, 512, 512), (188, 512, 512), (210, 512, 512), (270, 512, 512), (129, 512, 512), (225, 512, 512), (129, 512, 512), (144, 512, 512), (207, 512, 512), (209, 512, 512), (204, 512, 512), (229, 512, 512), (219, 512, 512), (169, 512, 512), (226, 512, 512), (226, 512, 512), (281, 512, 512), (214, 512, 512), (184, 512, 512), (169, 512, 512), (139, 512, 512), (170, 383, 380), (149, 512, 512), (199, 512, 512), (159, 512, 512), (249, 512, 512), (229, 512, 512)]\n"
     ]
    }
   ],
   "source": [
    "print(\"Ndims: \", ndims)\n",
    "print(\"dtypes: \", dtypes)\n",
    "print(\"mins: \", mins)\n",
    "print(\"maxs: \", maxs)\n",
    "print(\"shapes: \\n\", shapes)"
   ]
  }
 ],
 "metadata": {
  "interpreter": {
   "hash": "9869ba7a0cc20e7907cb266d743dfcfe55e22aefffbead1a9795d3f328907fa2"
  },
  "kernelspec": {
   "display_name": "Python 3.8.11 64-bit ('jenv': conda)",
   "language": "python",
   "name": "python3"
  },
  "language_info": {
   "codemirror_mode": {
    "name": "ipython",
    "version": 3
   },
   "file_extension": ".py",
   "mimetype": "text/x-python",
   "name": "python",
   "nbconvert_exporter": "python",
   "pygments_lexer": "ipython3",
   "version": "3.8.11"
  },
  "orig_nbformat": 4
 },
 "nbformat": 4,
 "nbformat_minor": 2
}
