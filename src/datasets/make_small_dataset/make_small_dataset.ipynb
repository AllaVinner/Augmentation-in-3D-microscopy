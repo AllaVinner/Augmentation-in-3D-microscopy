{
 "cells": [
  {
   "cell_type": "code",
   "execution_count": 1,
   "metadata": {},
   "outputs": [],
   "source": [
    "import os\n",
    "import shutil\n",
    "import numpy as np\n"
   ]
  },
  {
   "cell_type": "code",
   "execution_count": 2,
   "metadata": {},
   "outputs": [],
   "source": [
    "def get_extention(filename):\n",
    "    return filename.split('.')[-1]\n",
    "def get_sample_name(filename):\n",
    "    return filename.split('_')[0]\n",
    "    "
   ]
  },
  {
   "cell_type": "code",
   "execution_count": 3,
   "metadata": {},
   "outputs": [],
   "source": [
    "DATASET = \"SAM\""
   ]
  },
  {
   "cell_type": "code",
   "execution_count": 4,
   "metadata": {},
   "outputs": [],
   "source": [
    "# Setup CONSTANTS\n",
    "DATASETS_PATH = \"/scratch/ottosson/datasets\"\n",
    "DATASET_PATH = os.path.join(DATASETS_PATH, DATASET)\n",
    "DATASET_SMALL = DATASET + '_SMALL'\n",
    "DATASET_SMALL_PATH = os.path.join(DATASETS_PATH, DATASET_SMALL)\n",
    "if os.path.isdir(DATASET_SMALL_PATH):\n",
    "    print(\"SMALL dir already exist, DO YOU WANT TO PRESIDE???\")"
   ]
  },
  {
   "cell_type": "markdown",
   "metadata": {},
   "source": [
    "# Reset dataset and create folder structure"
   ]
  },
  {
   "cell_type": "code",
   "execution_count": 5,
   "metadata": {},
   "outputs": [],
   "source": [
    "SUB_FOLDERS = [['plantseg_training'],\n",
    "                ['plantseg_training', 'train'],\n",
    "                ['plantseg_training', 'val'],\n",
    "                ['cellpose_training'],\n",
    "                ['cellpose_training', 'train'],\n",
    "                ['cellpose_training', 'val'],\n",
    "                ['raw'],\n",
    "                ['label'],\n",
    "               ]"
   ]
  },
  {
   "cell_type": "code",
   "execution_count": 6,
   "metadata": {},
   "outputs": [],
   "source": [
    "if os.path.isdir(DATASET_SMALL_PATH):\n",
    "    shutil.rmtree(DATASET_SMALL_PATH)\n",
    "os.mkdir(DATASET_SMALL_PATH)\n",
    "\n",
    "for sub_branch in SUB_FOLDERS:\n",
    "    os.mkdir(os.path.join(DATASET_SMALL_PATH,*sub_branch ))"
   ]
  },
  {
   "cell_type": "markdown",
   "metadata": {},
   "source": [
    "# Chose the samples to be coppied"
   ]
  },
  {
   "cell_type": "code",
   "execution_count": 7,
   "metadata": {},
   "outputs": [],
   "source": [
    "num_train_samples = 10\n",
    "num_val_samples = 2"
   ]
  },
  {
   "cell_type": "code",
   "execution_count": 8,
   "metadata": {},
   "outputs": [],
   "source": [
    "train_names = []\n",
    "val_names = []\n",
    "for f in os.listdir(os.path.join(DATASET_PATH, 'plantseg_training','train')):\n",
    "    if get_extention(f) != 'h5': continue\n",
    "    train_names.append(get_sample_name(f))\n",
    "for f in os.listdir(os.path.join(DATASET_PATH, 'plantseg_training','val')):\n",
    "    if get_extention(f) != 'h5': continue\n",
    "    val_names.append(get_sample_name(f))\n",
    "\n",
    "assert num_train_samples <= len(train_names), \"Must be more samples then asked for!\"\n",
    "assert num_val_samples <= len(val_names), \"Must be more samples then asked for!\"\n",
    "\n",
    "chosen_train_samples = list(np.random.choice(train_names, num_train_samples, replace = False))\n",
    "chosen_val_samples = list(np.random.choice(val_names, num_val_samples, replace = False))\n",
    "chosen_samples = chosen_train_samples + chosen_val_samples"
   ]
  },
  {
   "cell_type": "code",
   "execution_count": 9,
   "metadata": {},
   "outputs": [
    {
     "name": "stdout",
     "output_type": "stream",
     "text": [
      "Train:  ['sample113', 'sample27', 'sample74', 'sample102', 'sample41', 'sample13', 'sample94', 'sample15', 'sample97', 'sample29']\n",
      "VAL:  ['sample123', 'sample80']\n",
      "All:  ['sample113', 'sample27', 'sample74', 'sample102', 'sample41', 'sample13', 'sample94', 'sample15', 'sample97', 'sample29', 'sample123', 'sample80']\n"
     ]
    }
   ],
   "source": [
    "print(\"Train: \", chosen_train_samples)\n",
    "print(\"VAL: \", chosen_val_samples)\n",
    "print(\"All: \", chosen_samples)"
   ]
  },
  {
   "cell_type": "markdown",
   "metadata": {},
   "source": [
    "# Copy over the chosen files"
   ]
  },
  {
   "cell_type": "code",
   "execution_count": 50,
   "metadata": {},
   "outputs": [],
   "source": [
    "for sub_branch in SUB_FOLDERS:\n",
    "    # Which files to copy\n",
    "    if sub_branch[-1] == 'train':\n",
    "        samples_to_copy = chosen_train_samples\n",
    "    elif sub_branch[-1] == 'val':\n",
    "        samples_to_copy = chosen_val_samples\n",
    "    else:\n",
    "        samples_to_copy = chosen_samples\n",
    "    \n",
    "    for filename in os.listdir(os.path.join(DATASET_PATH,*sub_branch)):\n",
    "        if get_sample_name(filename=filename) not in samples_to_copy: continue\n",
    "        shutil.copyfile(os.path.join(DATASET_PATH, *sub_branch, filename),\n",
    "                        os.path.join(DATASET_SMALL_PATH, *sub_branch, filename))"
   ]
  },
  {
   "cell_type": "markdown",
   "metadata": {},
   "source": [
    "# CAREFUL! This create the cellpose sub directories"
   ]
  },
  {
   "cell_type": "code",
   "execution_count": 51,
   "metadata": {},
   "outputs": [],
   "source": [
    "# Change this path\n",
    "cellpose_path = \"/scratch/ottosson/datasets/Ovules/cellpose_training\"\n",
    "os.mkdir(os.path.join(cellpose_path ,'train'))\n",
    "\n",
    "os.mkdir(os.path.join(cellpose_path ,'val'))"
   ]
  },
  {
   "cell_type": "code",
   "execution_count": 54,
   "metadata": {},
   "outputs": [],
   "source": [
    "val_samples = ['N420ds2x', 'N464ds2x']\n",
    "for f in os.listdir(cellpose_path):\n",
    "    if get_extention(f) != 'tif': continue\n",
    "    if get_sample_name(f) in val_samples:\n",
    "        shutil.copyfile(os.path.join(cellpose_path,f),\n",
    "                        os.path.join(cellpose_path,'val',f))\n",
    "    else:\n",
    "        shutil.copyfile(os.path.join(cellpose_path,f),\n",
    "                        os.path.join(cellpose_path,'train',f))\n",
    "    os.remove(os.path.join(cellpose_path,f))"
   ]
  },
  {
   "cell_type": "code",
   "execution_count": 53,
   "metadata": {},
   "outputs": [],
   "source": [
    "# Make names\n",
    "path = \"/scratch/ottosson/datasets/Ovules/plantseg_training/val\"\n",
    "for f in os.listdir(path):\n",
    "    if get_extention(f) != \"h5\": continue\n",
    "    new_f = f.split('.')[0].replace('_','')+'_h5.h5'\n",
    "    shutil.move(os.path.join(path, f), os.path.join(path,new_f ))"
   ]
  },
  {
   "cell_type": "code",
   "execution_count": null,
   "metadata": {},
   "outputs": [],
   "source": []
  }
 ],
 "metadata": {
  "interpreter": {
   "hash": "9869ba7a0cc20e7907cb266d743dfcfe55e22aefffbead1a9795d3f328907fa2"
  },
  "kernelspec": {
   "display_name": "Python 3.8.11 64-bit ('jenv': conda)",
   "language": "python",
   "name": "python3"
  },
  "language_info": {
   "codemirror_mode": {
    "name": "ipython",
    "version": 3
   },
   "file_extension": ".py",
   "mimetype": "text/x-python",
   "name": "python",
   "nbconvert_exporter": "python",
   "pygments_lexer": "ipython3",
   "version": "3.8.11"
  },
  "orig_nbformat": 4
 },
 "nbformat": 4,
 "nbformat_minor": 2
}
