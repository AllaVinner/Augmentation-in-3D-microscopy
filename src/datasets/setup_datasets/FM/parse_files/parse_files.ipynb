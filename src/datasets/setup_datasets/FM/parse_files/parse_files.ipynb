{
 "cells": [
  {
   "cell_type": "code",
   "execution_count": 2,
   "metadata": {},
   "outputs": [],
   "source": [
    "import os\n",
    "import shutil"
   ]
  },
  {
   "cell_type": "code",
   "execution_count": 3,
   "metadata": {},
   "outputs": [],
   "source": [
    "def get_name(filename):\n",
    "    return filename.split('.')[0].split('_')[0]\n",
    "\n",
    "def set_suffix(dir_path, suffix, file_ext = None):\n",
    "    for filename in os.listdir(dir_path):\n",
    "        # Check that right extention\n",
    "        ext = filename.split('.')[-1]    \n",
    "        if file_ext is not None:\n",
    "            if  ext != file_ext: continue\n",
    "\n",
    "        # \n",
    "        new_name = get_name(filename) + suffix + '.' + ext\n",
    "        shutil.move(os.path.join(dir_path, filename),\n",
    "                    os.path.join(dir_path, new_name))"
   ]
  },
  {
   "cell_type": "code",
   "execution_count": 4,
   "metadata": {},
   "outputs": [],
   "source": [
    "label_path = '/scratch/ottosson/datasets/FM/label'\n",
    "set_suffix(label_path,'_label', file_ext='tif')"
   ]
  },
  {
   "cell_type": "code",
   "execution_count": 5,
   "metadata": {},
   "outputs": [],
   "source": [
    "raw_path = '/scratch/ottosson/datasets/FM/raw'\n",
    "set_suffix(raw_path,'_raw', file_ext='tif')"
   ]
  },
  {
   "cell_type": "code",
   "execution_count": null,
   "metadata": {},
   "outputs": [],
   "source": []
  }
 ],
 "metadata": {
  "interpreter": {
   "hash": "9869ba7a0cc20e7907cb266d743dfcfe55e22aefffbead1a9795d3f328907fa2"
  },
  "kernelspec": {
   "display_name": "Python 3.8.11 64-bit ('jenv': conda)",
   "language": "python",
   "name": "python3"
  },
  "language_info": {
   "codemirror_mode": {
    "name": "ipython",
    "version": 3
   },
   "file_extension": ".py",
   "mimetype": "text/x-python",
   "name": "python",
   "nbconvert_exporter": "python",
   "pygments_lexer": "ipython3",
   "version": "3.8.11"
  },
  "orig_nbformat": 4
 },
 "nbformat": 4,
 "nbformat_minor": 2
}
