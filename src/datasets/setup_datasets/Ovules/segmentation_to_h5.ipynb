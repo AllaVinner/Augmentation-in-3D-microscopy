{
 "cells": [
  {
   "cell_type": "code",
   "execution_count": 1,
   "metadata": {},
   "outputs": [],
   "source": [
    "import h5py\n",
    "import imageio\n",
    "import os"
   ]
  },
  {
   "cell_type": "code",
   "execution_count": 9,
   "metadata": {},
   "outputs": [],
   "source": [
    "dirpath = r'/scratch/ottosson/datasets/Ovules/segmentation/generic_confocal_3d_unet/MultiCut'\n",
    "newdirpath = r'/scratch/ottosson/datasets/Ovules/segmentation/generic_confocal_3d_unet/MultiCut/tif'\n",
    "old_ext = '.h5'\n",
    "new_ext = '.tif'\n",
    "image_names = [f.replace(old_ext,'') for f in os.listdir(dirpath) if old_ext in f]\n"
   ]
  },
  {
   "cell_type": "code",
   "execution_count": 10,
   "metadata": {},
   "outputs": [
    {
     "name": "stdout",
     "output_type": "stream",
     "text": [
      "<KeysViewHDF5 ['segmentation']>\n"
     ]
    }
   ],
   "source": [
    "with h5py.File(os.path.join(dirpath, image_names[0]+old_ext), 'r') as f:\n",
    "    print(f.keys())"
   ]
  },
  {
   "cell_type": "code",
   "execution_count": 11,
   "metadata": {},
   "outputs": [],
   "source": [
    "for image_name in image_names:\n",
    "    print(image_name)\n",
    "    with h5py.File(os.path.join(dirpath, image_name+old_ext), 'r') as f:\n",
    "        img = f['segmentation'][:]\n",
    "    imageio.volwrite(os.path.join(newdirpath, image_name+ new_ext), img)"
   ]
  },
  {
   "cell_type": "code",
   "execution_count": null,
   "metadata": {},
   "outputs": [],
   "source": []
  },
  {
   "cell_type": "code",
   "execution_count": 12,
   "metadata": {},
   "outputs": [],
   "source": [
    "dirpath = r'/scratch/ottosson/datasets/Ovules/train'\n",
    "newdirpath = r'/scratch/ottosson/datasets/Ovules/train/tif'\n",
    "old_ext = '.h5'\n",
    "new_ext = '.tif'\n",
    "image_names = [f.replace(old_ext,'') for f in os.listdir(dirpath) if old_ext in f]"
   ]
  },
  {
   "cell_type": "code",
   "execution_count": 13,
   "metadata": {},
   "outputs": [
    {
     "name": "stdout",
     "output_type": "stream",
     "text": [
      "<KeysViewHDF5 ['label', 'label_with_ignore', 'raw']>\n"
     ]
    }
   ],
   "source": [
    "with h5py.File(os.path.join(dirpath, image_names[0]+old_ext), 'r') as f:\n",
    "    print(f.keys())"
   ]
  },
  {
   "cell_type": "code",
   "execution_count": 14,
   "metadata": {},
   "outputs": [
    {
     "name": "stdout",
     "output_type": "stream",
     "text": [
      "N_416_ds2x\n",
      "N_535_ds2x\n",
      "N_405_A_ds2x\n",
      "N_458_ds2x\n",
      "N_509_ds2x\n",
      "N_405_B_ds2x\n",
      "N_428_ds2x\n",
      "N_457_ds2x\n",
      "N_536_ds2x\n",
      "N_517_ds2x\n",
      "N_450_ds2x\n",
      "N_451_ds2x\n",
      "N_454_ds2x\n",
      "N_404_ds2x\n",
      "N_440_ds2x\n",
      "N_487_ds2x\n",
      "N_534_ds2x\n",
      "N_445_ds2x\n",
      "N_425_ds2x\n",
      "N_512_ds2x\n",
      "N_449_ds2x\n",
      "N_422_ds2x\n"
     ]
    }
   ],
   "source": [
    "for image_name in image_names:\n",
    "    print(image_name)\n",
    "    with h5py.File(os.path.join(dirpath, image_name+old_ext), 'r') as f:\n",
    "        img = f['label'][:]\n",
    "    imageio.volwrite(os.path.join(newdirpath, image_name+ new_ext), img)"
   ]
  },
  {
   "cell_type": "code",
   "execution_count": null,
   "metadata": {},
   "outputs": [],
   "source": []
  }
 ],
 "metadata": {
  "interpreter": {
   "hash": "510cc410268c5be890abd8a65be600430f30bf7a593d3948c9517ea615c5f524"
  },
  "kernelspec": {
   "display_name": "Python 3.7.11 64-bit ('cellpose-comp': conda)",
   "language": "python",
   "name": "python3"
  },
  "language_info": {
   "codemirror_mode": {
    "name": "ipython",
    "version": 3
   },
   "file_extension": ".py",
   "mimetype": "text/x-python",
   "name": "python",
   "nbconvert_exporter": "python",
   "pygments_lexer": "ipython3",
   "version": "3.7.10"
  },
  "orig_nbformat": 4
 },
 "nbformat": 4,
 "nbformat_minor": 2
}
