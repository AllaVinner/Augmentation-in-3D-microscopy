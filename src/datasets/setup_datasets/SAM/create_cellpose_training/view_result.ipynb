{
 "cells": [
  {
   "cell_type": "code",
   "execution_count": 4,
   "metadata": {},
   "outputs": [],
   "source": [
    "import os\n",
    "import skimage.io\n",
    "import matplotlib.pyplot as plt"
   ]
  },
  {
   "cell_type": "code",
   "execution_count": 5,
   "metadata": {},
   "outputs": [],
   "source": [
    "def describe(im):\n",
    "    print(f\"\\tdtype: {im.dtype}\")\n",
    "    print(f\"\\tshape: {im.shape}\")\n",
    "    print(f\"\\tmin: {im.min()}\")\n",
    "    print(f\"\\tmean: {im.mean()}\")\n",
    "    print(f\"\\tmax: {im.max()}\")"
   ]
  },
  {
   "cell_type": "code",
   "execution_count": 6,
   "metadata": {},
   "outputs": [],
   "source": [
    "raw_path = \"/scratch/ottosson/datasets/FM_SMALL/cellpose_training/26h_slice000_raw.tif\"\n",
    "label_path = \"/scratch/ottosson/datasets/FM_SMALL/cellpose_training/26h_slice000_label.tif\"\n",
    "flow_path = \"/scratch/ottosson/datasets/FM_SMALL/cellpose_training/26h_slice000_flows.tif\"\n",
    "raw = skimage.io.imread(raw_path)\n",
    "label = skimage.io.imread(label_path)\n",
    "flow = skimage.io.imread(flow_path)"
   ]
  },
  {
   "cell_type": "code",
   "execution_count": 7,
   "metadata": {},
   "outputs": [
    {
     "name": "stdout",
     "output_type": "stream",
     "text": [
      "RAW\n",
      "\tdtype: uint8\n",
      "\tshape: (1, 428, 428)\n",
      "\tmin: 0\n",
      "\tmean: 0.0\n",
      "\tmax: 0\n",
      "Label\n",
      "\tdtype: uint16\n",
      "\tshape: (1, 428, 428)\n",
      "\tmin: 0\n",
      "\tmean: 0.0\n",
      "\tmax: 0\n",
      "Flow\n",
      "\tdtype: float32\n",
      "\tshape: (428, 428, 4)\n",
      "\tmin: 0.0\n",
      "\tmean: 0.0\n",
      "\tmax: 0.0\n"
     ]
    }
   ],
   "source": [
    "print(\"RAW\")\n",
    "describe(raw)\n",
    "print(\"Label\")\n",
    "describe(label)\n",
    "print(\"Flow\")\n",
    "describe(flow)"
   ]
  },
  {
   "cell_type": "code",
   "execution_count": 8,
   "metadata": {},
   "outputs": [
    {
     "data": {
      "text/plain": [
       "Text(0.5, 1.0, 'Label')"
      ]
     },
     "execution_count": 8,
     "metadata": {},
     "output_type": "execute_result"
    },
    {
     "data": {
      "image/png": "[encoded data removed]",
      "text/plain": [
       "<Figure size 432x288 with 2 Axes>"
      ]
     },
     "metadata": {
      "needs_background": "light"
     },
     "output_type": "display_data"
    }
   ],
   "source": [
    "fig, axs = plt.subplots(1,2)\n",
    "axs[0].imshow(raw[0])\n",
    "axs[0].set_title(\"Raw\")\n",
    "axs[1].imshow(label[0])\n",
    "axs[1].set_title(\"Label\")"
   ]
  },
  {
   "cell_type": "code",
   "execution_count": 9,
   "metadata": {},
   "outputs": [
    {
     "data": {
      "image/png": "[encoded data removed]",
      "text/plain": [
       "<Figure size 1080x1008 with 4 Axes>"
      ]
     },
     "metadata": {
      "needs_background": "light"
     },
     "output_type": "display_data"
    }
   ],
   "source": [
    "fig, axs = plt.subplots(1,4)\n",
    "for i in range(flow.shape[-1]):\n",
    "    axs[i].imshow(flow[:,:,i])\n",
    "    axs[i].set_title(f\"Flow {i}\")\n",
    "fig.set_size_inches(15,14)"
   ]
  },
  {
   "cell_type": "code",
   "execution_count": 10,
   "metadata": {},
   "outputs": [
    {
     "name": "stdout",
     "output_type": "stream",
     "text": [
      "Flow 0\n",
      "\tdtype: float32\n",
      "\tshape: (428, 428)\n",
      "\tmin: 0.0\n",
      "\tmean: 0.0\n",
      "\tmax: 0.0\n",
      "Flow 1\n",
      "\tdtype: float32\n",
      "\tshape: (428, 428)\n",
      "\tmin: 0.0\n",
      "\tmean: 0.0\n",
      "\tmax: 0.0\n",
      "Flow 2\n",
      "\tdtype: float32\n",
      "\tshape: (428, 428)\n",
      "\tmin: 0.0\n",
      "\tmean: 0.0\n",
      "\tmax: 0.0\n",
      "Flow 3\n",
      "\tdtype: float32\n",
      "\tshape: (428, 428)\n",
      "\tmin: 0.0\n",
      "\tmean: 0.0\n",
      "\tmax: 0.0\n"
     ]
    }
   ],
   "source": [
    "# describe flows\n",
    "for i in range(flow.shape[-1]):\n",
    "    print(f\"Flow {i}\")\n",
    "    describe(flow[...,i])"
   ]
  },
  {
   "cell_type": "code",
   "execution_count": null,
   "metadata": {},
   "outputs": [],
   "source": []
  }
 ],
 "metadata": {
  "interpreter": {
   "hash": "9869ba7a0cc20e7907cb266d743dfcfe55e22aefffbead1a9795d3f328907fa2"
  },
  "kernelspec": {
   "display_name": "Python 3.8.11 64-bit ('jenv': conda)",
   "language": "python",
   "name": "python3"
  },
  "language_info": {
   "codemirror_mode": {
    "name": "ipython",
    "version": 3
   },
   "file_extension": ".py",
   "mimetype": "text/x-python",
   "name": "python",
   "nbconvert_exporter": "python",
   "pygments_lexer": "ipython3",
   "version": "3.8.11"
  },
  "orig_nbformat": 4
 },
 "nbformat": 4,
 "nbformat_minor": 2
}
