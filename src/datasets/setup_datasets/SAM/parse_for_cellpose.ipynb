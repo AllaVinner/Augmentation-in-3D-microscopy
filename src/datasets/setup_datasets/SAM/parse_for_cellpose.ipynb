{
 "cells": [
  {
   "cell_type": "markdown",
   "metadata": {},
   "source": [
    "# Parse for Cellpose\n",
    "Parse the data in PNAS to fit with the specifications of Cellpose.\n",
    "\n",
    "The neural network in cellpose works on 2D images, and hence each z-slice is stored in the folder 'PNAS-Cellpose' under the file name 'sample_<sample_i>_layer_<z_i>'.\n",
    "The masks have the same name but with an added '_masks' at the end. \n",
    "\n"
   ]
  },
  {
   "cell_type": "code",
   "execution_count": 1,
   "metadata": {},
   "outputs": [],
   "source": [
    "import os\n",
    "from os.path import join\n",
    "import imageio\n",
    "source_path = '/scratch/ottosson/datasets/SAM/data/PNAS'\n",
    "destination_path = '/scratch/ottosson/datasets/SAM/data/PNAS-Cellpose'"
   ]
  },
  {
   "cell_type": "code",
   "execution_count": 2,
   "metadata": {},
   "outputs": [],
   "source": [
    "# Get all directories in source path\n",
    "plants = [dir for dir in os.listdir(source_path) if os.path.isdir(os.path.join(source_path, dir))] \n",
    "# Set intermediat paths \n",
    "intermediate_input_path = 'processed_tiffs'\n",
    "intermediate_target_path = 'segmentation_tiffs'\n",
    "# Set strings which are unique for input and output to be able to tell them apart\n",
    "determiner_input_string = 'acylYFP'\n",
    "determiner_output_string = ''"
   ]
  },
  {
   "cell_type": "code",
   "execution_count": 3,
   "metadata": {},
   "outputs": [],
   "source": [
    "def find_label_file(file, directory):\n",
    "    \"\"\"\n",
    "    Finds the files in the directory which share the timestamp and plant name of 'file'\n",
    "    The file is assumed to be named \"time_plant_XXXXXX.XX\"\n",
    "    \"\"\"\n",
    "    parts = file.split(\"_\")\n",
    "    time = parts[0]\n",
    "    plant = parts[1]\n",
    "    matched_files = []\n",
    "    for f in os.listdir(directory):\n",
    "        f_parts = f.split(\"_\")\n",
    "        f_time = f_parts[0]\n",
    "        f_plant = f_parts[1]\n",
    "        if time == f_time and plant == f_plant:\n",
    "            matched_files.append(f)\n",
    "    if len(matched_files) != 1:\n",
    "        print(f\"Wrong number of file matched: {matched_files}\\nfile: {file}\\nDir: {directory}\\n\")\n",
    "    if len(matched_files) == 0:\n",
    "        return None\n",
    "    return matched_files[0]"
   ]
  },
  {
   "cell_type": "code",
   "execution_count": 4,
   "metadata": {},
   "outputs": [
    {
     "name": "stdout",
     "output_type": "stream",
     "text": [
      "Wrong number of file matched: []\n",
      "file: 40hrs_plant18_trim-acylYFP.tif\n",
      "Dir: /scratch/ottosson/datasets/SAM/data/PNAS/plant18/segmentation_tiffs\n",
      "\n"
     ]
    }
   ],
   "source": [
    "# COPY WITHOUT! THE FLOW\n",
    "sample_i = 0\n",
    "# Go trhough all plant 'movies'\n",
    "for plant in plants:\n",
    "    # Get all frames in 'movie'\n",
    "    plant_path = join(source_path,plant)\n",
    "    files = os.listdir(join(plant_path,intermediate_input_path))\n",
    "    # Go through all frames\n",
    "    for file in files:\n",
    "        # Skip files which are not training\n",
    "        if determiner_input_string not in file: continue \n",
    "        # Find target file corresponding to input file\n",
    "        input_path = join(plant_path,intermediate_input_path,file)\n",
    "        target_name = find_label_file(file,join(plant_path,intermediate_target_path))\n",
    "        # If no target file, contnue\n",
    "        if not target_name: continue\n",
    "        \n",
    "        # Create paths to targets and inputs\n",
    "        target_path = join(plant_path,intermediate_target_path,target_name)\n",
    "        new_input_path = join(destination_path,f'wells_{str(sample_i).zfill(3)}.tif')\n",
    "        new_target_path = join(destination_path,f'wells_{str(sample_i).zfill(3)}_masks.tif')\n",
    "        # Create a new folder for the restructured data.\n",
    "        inputs = imageio.volread(input_path)\n",
    "        targets = imageio.volread(target_path)\n",
    "        for layer_i in range(inputs.shape[0]):\n",
    "            name = f'sample_{str(sample_i).zfill(3)}_layer_{str(layer_i).zfill(3)}'\n",
    "            new_input_path = join(destination_path, name +'.tif')\n",
    "            new_target_path = join(destination_path, name +'_masks.tif')\n",
    "            imageio.imwrite(new_input_path, inputs[layer_i])\n",
    "            imageio.imwrite(new_target_path, targets[layer_i])\n",
    "        sample_i = sample_i + 1\n",
    "        "
   ]
  },
  {
   "cell_type": "code",
   "execution_count": 4,
   "metadata": {},
   "outputs": [
    {
     "name": "stdout",
     "output_type": "stream",
     "text": [
      "2021-11-04 14:16:58,590 [INFO] WRITING LOG OUTPUT TO /home/ottosson/.cellpose/run.log\n",
      "2021-11-04 14:16:59,257 [INFO] NOTE: computing flows for labels (could be done before to save time)\n"
     ]
    },
    {
     "name": "stderr",
     "output_type": "stream",
     "text": [
      " 72%|███████▏  | 155/214 [37:51<18:50, 19.16s/it]"
     ]
    }
   ],
   "source": [
    "# COPY WITH! FLOW\n",
    "import cellpose\n",
    "# Go trhough all plant 'movies'\n",
    "for plant_i, plant in enumerate(plants):\n",
    "    # Get all frames in 'movie'\n",
    "    plant_path = join(source_path,plant)\n",
    "    samples = os.listdir(join(plant_path,intermediate_input_path))\n",
    "    # Go through all frames\n",
    "    sample_i = 0\n",
    "    for sample in samples:\n",
    "        # Skip files which are not training\n",
    "        if determiner_input_string not in sample: continue \n",
    "        # Find target file corresponding to input file\n",
    "        input_path = join(plant_path,intermediate_input_path,sample)\n",
    "        target_name = find_label_file(sample,join(plant_path,intermediate_target_path))\n",
    "        # If no target file, contnue\n",
    "        if not target_name: continue\n",
    "        \n",
    "        # Create paths to targets and inputs\n",
    "        target_path = join(plant_path,intermediate_target_path,target_name)\n",
    "        # Create a new folder for the restructured data.\n",
    "        inputs = imageio.volread(input_path)\n",
    "        targets = imageio.volread(target_path)\n",
    "\n",
    "        \n",
    "        target_list = []\n",
    "        new_target_file_list = []\n",
    "        for layer_i in range(inputs.shape[0]):\n",
    "            target_list.append(targets[layer_i])\n",
    "            name = f'plant_{str(plant_i).zfill(3)}_sample_{str(sample_i).zfill(3)}_layer_{str(layer_i).zfill(3)}'\n",
    "            new_input_path = join(destination_path, name +'.tif')\n",
    "            new_target_path = join(destination_path, name +'.tif')\n",
    "            imageio.imwrite(new_input_path, inputs[layer_i])\n",
    "            new_target_file_list.append(new_target_path)\n",
    "\n",
    "\n",
    "        cellpose.dynamics.labels_to_flows(target_list,\n",
    "                                          new_target_file_list)\n",
    "        sample_i = sample_i + 1\n",
    "    print(f\"Plant {plant_i} is done!\")\n",
    "        "
   ]
  },
  {
   "cell_type": "code",
   "execution_count": null,
   "metadata": {},
   "outputs": [],
   "source": []
  }
 ],
 "metadata": {
  "interpreter": {
   "hash": "510cc410268c5be890abd8a65be600430f30bf7a593d3948c9517ea615c5f524"
  },
  "kernelspec": {
   "display_name": "Python 3.7.11 64-bit ('cellpose-comp': conda)",
   "name": "python3"
  },
  "language_info": {
   "codemirror_mode": {
    "name": "ipython",
    "version": 3
   },
   "file_extension": ".py",
   "mimetype": "text/x-python",
   "name": "python",
   "nbconvert_exporter": "python",
   "pygments_lexer": "ipython3",
   "version": "3.7.11"
  },
  "orig_nbformat": 4
 },
 "nbformat": 4,
 "nbformat_minor": 2
}
