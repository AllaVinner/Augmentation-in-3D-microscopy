{
 "cells": [
  {
   "cell_type": "code",
   "execution_count": 1,
   "metadata": {},
   "outputs": [],
   "source": [
    "import pandas as pd\n",
    "import seaborn as sns\n",
    "import matplotlib.pyplot as plt\n",
    "import numpy as np\n",
    "import os"
   ]
  },
  {
   "cell_type": "code",
   "execution_count": 12,
   "metadata": {},
   "outputs": [],
   "source": [
    "sam_total = pd.read_csv('/scratch/ottosson/datasets/SAM_SMALL/dataframes/spher_total.csv')\n",
    "sam_means = pd.read_csv('/scratch/ottosson/datasets/SAM_SMALL/dataframes/spher_means.csv', index_col=0).T\n",
    "sam_means['name'] = sam_means.index\n",
    "\n",
    "ovules_total = pd.read_csv('/scratch/ottosson/datasets/Ovules/dataframes/spher_total.csv')\n",
    "\n",
    "\n",
    "fm_total = pd.read_csv('/scratch/ottosson/datasets/FM/dataframes/spher_total.csv')\n",
    "fm_means = pd.read_csv('/scratch/ottosson/datasets/FM/dataframes/spher_means.csv', index_col=0).T\n",
    "fm_means['name'] = fm_means.index\n"
   ]
  },
  {
   "cell_type": "code",
   "execution_count": 13,
   "metadata": {},
   "outputs": [
    {
     "data": {
      "text/html": [
       "<div>\n",
       "<style scoped>\n",
       "    .dataframe tbody tr th:only-of-type {\n",
       "        vertical-align: middle;\n",
       "    }\n",
       "\n",
       "    .dataframe tbody tr th {\n",
       "        vertical-align: top;\n",
       "    }\n",
       "\n",
       "    .dataframe thead th {\n",
       "        text-align: right;\n",
       "    }\n",
       "</style>\n",
       "<table border=\"1\" class=\"dataframe\">\n",
       "  <thead>\n",
       "    <tr style=\"text-align: right;\">\n",
       "      <th></th>\n",
       "      <th>Unnamed: 0</th>\n",
       "      <th>sphericity</th>\n",
       "    </tr>\n",
       "  </thead>\n",
       "  <tbody>\n",
       "    <tr>\n",
       "      <th>count</th>\n",
       "      <td>26737.00000</td>\n",
       "      <td>26718.000000</td>\n",
       "    </tr>\n",
       "    <tr>\n",
       "      <th>mean</th>\n",
       "      <td>13368.00000</td>\n",
       "      <td>0.544318</td>\n",
       "    </tr>\n",
       "    <tr>\n",
       "      <th>std</th>\n",
       "      <td>7718.45141</td>\n",
       "      <td>0.233526</td>\n",
       "    </tr>\n",
       "    <tr>\n",
       "      <th>min</th>\n",
       "      <td>0.00000</td>\n",
       "      <td>0.000012</td>\n",
       "    </tr>\n",
       "    <tr>\n",
       "      <th>25%</th>\n",
       "      <td>6684.00000</td>\n",
       "      <td>0.359239</td>\n",
       "    </tr>\n",
       "    <tr>\n",
       "      <th>50%</th>\n",
       "      <td>13368.00000</td>\n",
       "      <td>0.606898</td>\n",
       "    </tr>\n",
       "    <tr>\n",
       "      <th>75%</th>\n",
       "      <td>20052.00000</td>\n",
       "      <td>0.737243</td>\n",
       "    </tr>\n",
       "    <tr>\n",
       "      <th>max</th>\n",
       "      <td>26736.00000</td>\n",
       "      <td>2.176344</td>\n",
       "    </tr>\n",
       "  </tbody>\n",
       "</table>\n",
       "</div>"
      ],
      "text/plain": [
       "        Unnamed: 0    sphericity\n",
       "count  26737.00000  26718.000000\n",
       "mean   13368.00000      0.544318\n",
       "std     7718.45141      0.233526\n",
       "min        0.00000      0.000012\n",
       "25%     6684.00000      0.359239\n",
       "50%    13368.00000      0.606898\n",
       "75%    20052.00000      0.737243\n",
       "max    26736.00000      2.176344"
      ]
     },
     "execution_count": 13,
     "metadata": {},
     "output_type": "execute_result"
    }
   ],
   "source": [
    "ovules_total.describe()"
   ]
  },
  {
   "cell_type": "code",
   "execution_count": 31,
   "metadata": {},
   "outputs": [
    {
     "data": {
      "text/html": [
       "<div>\n",
       "<style scoped>\n",
       "    .dataframe tbody tr th:only-of-type {\n",
       "        vertical-align: middle;\n",
       "    }\n",
       "\n",
       "    .dataframe tbody tr th {\n",
       "        vertical-align: top;\n",
       "    }\n",
       "\n",
       "    .dataframe thead th {\n",
       "        text-align: right;\n",
       "    }\n",
       "</style>\n",
       "<table border=\"1\" class=\"dataframe\">\n",
       "  <thead>\n",
       "    <tr style=\"text-align: right;\">\n",
       "      <th></th>\n",
       "      <th>sphericity</th>\n",
       "    </tr>\n",
       "  </thead>\n",
       "  <tbody>\n",
       "    <tr>\n",
       "      <th>count</th>\n",
       "      <td>10976.000000</td>\n",
       "    </tr>\n",
       "    <tr>\n",
       "      <th>mean</th>\n",
       "      <td>0.863613</td>\n",
       "    </tr>\n",
       "    <tr>\n",
       "      <th>std</th>\n",
       "      <td>0.063077</td>\n",
       "    </tr>\n",
       "    <tr>\n",
       "      <th>min</th>\n",
       "      <td>0.444169</td>\n",
       "    </tr>\n",
       "    <tr>\n",
       "      <th>25%</th>\n",
       "      <td>0.827917</td>\n",
       "    </tr>\n",
       "    <tr>\n",
       "      <th>50%</th>\n",
       "      <td>0.850849</td>\n",
       "    </tr>\n",
       "    <tr>\n",
       "      <th>75%</th>\n",
       "      <td>0.876312</td>\n",
       "    </tr>\n",
       "    <tr>\n",
       "      <th>max</th>\n",
       "      <td>1.241054</td>\n",
       "    </tr>\n",
       "  </tbody>\n",
       "</table>\n",
       "</div>"
      ],
      "text/plain": [
       "         sphericity\n",
       "count  10976.000000\n",
       "mean       0.863613\n",
       "std        0.063077\n",
       "min        0.444169\n",
       "25%        0.827917\n",
       "50%        0.850849\n",
       "75%        0.876312\n",
       "max        1.241054"
      ]
     },
     "execution_count": 31,
     "metadata": {},
     "output_type": "execute_result"
    }
   ],
   "source": [
    "sam_total.describe()"
   ]
  },
  {
   "cell_type": "code",
   "execution_count": 26,
   "metadata": {},
   "outputs": [
    {
     "data": {
      "text/plain": [
       "<seaborn.axisgrid.FacetGrid at 0x7fbaaf09c9a0>"
      ]
     },
     "execution_count": 26,
     "metadata": {},
     "output_type": "execute_result"
    },
    {
     "data": {
      "image/png": "[encoded data removed]",
      "text/plain": [
       "<Figure size 360x360 with 1 Axes>"
      ]
     },
     "metadata": {
      "needs_background": "light"
     },
     "output_type": "display_data"
    }
   ],
   "source": [
    "sns.displot(data = fm_total, x = 'sphericity')"
   ]
  },
  {
   "cell_type": "code",
   "execution_count": 27,
   "metadata": {},
   "outputs": [
    {
     "data": {
      "text/plain": [
       "<seaborn.axisgrid.FacetGrid at 0x7fbaaf0400a0>"
      ]
     },
     "execution_count": 27,
     "metadata": {},
     "output_type": "execute_result"
    },
    {
     "data": {
      "image/png": "[encoded data removed]",
      "text/plain": [
       "<Figure size 360x360 with 1 Axes>"
      ]
     },
     "metadata": {
      "needs_background": "light"
     },
     "output_type": "display_data"
    }
   ],
   "source": [
    "sns.catplot(data =fm_means, x = 'name' , y = 'mean', kind='bar',)"
   ]
  },
  {
   "cell_type": "code",
   "execution_count": 28,
   "metadata": {},
   "outputs": [
    {
     "data": {
      "text/plain": [
       "<seaborn.axisgrid.FacetGrid at 0x7fbaaeeedb50>"
      ]
     },
     "execution_count": 28,
     "metadata": {},
     "output_type": "execute_result"
    },
    {
     "data": {
      "image/png": "[encoded data removed]",
      "text/plain": [
       "<Figure size 360x360 with 1 Axes>"
      ]
     },
     "metadata": {
      "needs_background": "light"
     },
     "output_type": "display_data"
    }
   ],
   "source": [
    "sns.catplot(data =fm_means, x = 'name' , y = 'std', kind='bar',)"
   ]
  },
  {
   "cell_type": "code",
   "execution_count": 16,
   "metadata": {},
   "outputs": [
    {
     "data": {
      "text/html": [
       "<div>\n",
       "<style scoped>\n",
       "    .dataframe tbody tr th:only-of-type {\n",
       "        vertical-align: middle;\n",
       "    }\n",
       "\n",
       "    .dataframe tbody tr th {\n",
       "        vertical-align: top;\n",
       "    }\n",
       "\n",
       "    .dataframe thead th {\n",
       "        text-align: right;\n",
       "    }\n",
       "</style>\n",
       "<table border=\"1\" class=\"dataframe\">\n",
       "  <thead>\n",
       "    <tr style=\"text-align: right;\">\n",
       "      <th></th>\n",
       "      <th>sample74</th>\n",
       "      <th>sample123</th>\n",
       "      <th>sample102</th>\n",
       "      <th>sample97</th>\n",
       "      <th>sample13</th>\n",
       "      <th>sample113</th>\n",
       "      <th>sample94</th>\n",
       "      <th>sample15</th>\n",
       "      <th>sample41</th>\n",
       "      <th>sample29</th>\n",
       "      <th>sample27</th>\n",
       "      <th>sample80</th>\n",
       "      <th>name</th>\n",
       "    </tr>\n",
       "  </thead>\n",
       "  <tbody>\n",
       "    <tr>\n",
       "      <th>mean</th>\n",
       "      <td>0.870520</td>\n",
       "      <td>0.877096</td>\n",
       "      <td>0.842532</td>\n",
       "      <td>0.864535</td>\n",
       "      <td>0.863344</td>\n",
       "      <td>0.871363</td>\n",
       "      <td>0.874426</td>\n",
       "      <td>0.862132</td>\n",
       "      <td>0.840967</td>\n",
       "      <td>0.856553</td>\n",
       "      <td>0.878717</td>\n",
       "      <td>0.858340</td>\n",
       "      <td>mean</td>\n",
       "    </tr>\n",
       "    <tr>\n",
       "      <th>std</th>\n",
       "      <td>0.074747</td>\n",
       "      <td>0.061920</td>\n",
       "      <td>0.055907</td>\n",
       "      <td>0.061379</td>\n",
       "      <td>0.052576</td>\n",
       "      <td>0.059139</td>\n",
       "      <td>0.061227</td>\n",
       "      <td>0.057974</td>\n",
       "      <td>0.071349</td>\n",
       "      <td>0.066189</td>\n",
       "      <td>0.062273</td>\n",
       "      <td>0.082421</td>\n",
       "      <td>std</td>\n",
       "    </tr>\n",
       "  </tbody>\n",
       "</table>\n",
       "</div>"
      ],
      "text/plain": [
       "      sample74  sample123  sample102  sample97  sample13  sample113  sample94  \\\n",
       "mean  0.870520   0.877096   0.842532  0.864535  0.863344   0.871363  0.874426   \n",
       "std   0.074747   0.061920   0.055907  0.061379  0.052576   0.059139  0.061227   \n",
       "\n",
       "      sample15  sample41  sample29  sample27  sample80  name  \n",
       "mean  0.862132  0.840967  0.856553  0.878717  0.858340  mean  \n",
       "std   0.057974  0.071349  0.066189  0.062273  0.082421   std  "
      ]
     },
     "execution_count": 16,
     "metadata": {},
     "output_type": "execute_result"
    }
   ],
   "source": [
    "sam_means"
   ]
  },
  {
   "cell_type": "code",
   "execution_count": 6,
   "metadata": {},
   "outputs": [],
   "source": [
    "base_path = '/scratch/ottosson/datasets/Ovules/dataframes/tmep'\n",
    "dfs =[]\n",
    "for f in os.listdir(base_path):\n",
    "    if f.split('_')[1] != 'total': continue\n",
    "    df = pd.read_csv(os.path.join(base_path, f))\n",
    "    dfs.append(df)\n"
   ]
  },
  {
   "cell_type": "code",
   "execution_count": 7,
   "metadata": {},
   "outputs": [],
   "source": [
    "df = pd.concat(dfs,ignore_index=True)"
   ]
  },
  {
   "cell_type": "code",
   "execution_count": 9,
   "metadata": {},
   "outputs": [],
   "source": [
    "df.to_csv('/scratch/ottosson/datasets/Ovules/dataframes/spher_total.csv')"
   ]
  },
  {
   "cell_type": "code",
   "execution_count": null,
   "metadata": {},
   "outputs": [],
   "source": []
  }
 ],
 "metadata": {
  "interpreter": {
   "hash": "9869ba7a0cc20e7907cb266d743dfcfe55e22aefffbead1a9795d3f328907fa2"
  },
  "kernelspec": {
   "display_name": "Python 3.8.11 ('jenv')",
   "language": "python",
   "name": "python3"
  },
  "language_info": {
   "codemirror_mode": {
    "name": "ipython",
    "version": 3
   },
   "file_extension": ".py",
   "mimetype": "text/x-python",
   "name": "python",
   "nbconvert_exporter": "python",
   "pygments_lexer": "ipython3",
   "version": "3.8.11"
  },
  "orig_nbformat": 4
 },
 "nbformat": 4,
 "nbformat_minor": 2
}
