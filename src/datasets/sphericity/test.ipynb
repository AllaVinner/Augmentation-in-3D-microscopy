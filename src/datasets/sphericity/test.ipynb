{
 "cells": [
  {
   "cell_type": "code",
   "execution_count": 6,
   "metadata": {},
   "outputs": [
    {
     "data": {
      "text/plain": [
       "<module 'run' from '/scratch/ottosson/datasets/src/sphericity/run.py'>"
      ]
     },
     "execution_count": 6,
     "metadata": {},
     "output_type": "execute_result"
    }
   ],
   "source": [
    "import run\n",
    "import numpy as np\n",
    "import skimage.io\n",
    "import os\n",
    "import pandas as pd\n",
    "import importlib\n",
    "importlib.reload(run)"
   ]
  },
  {
   "cell_type": "markdown",
   "metadata": {},
   "source": [
    "## Test cell sphericity"
   ]
  },
  {
   "cell_type": "code",
   "execution_count": 2,
   "metadata": {},
   "outputs": [],
   "source": [
    "label = skimage.io.imread('/scratch/ottosson/datasets/Ovules/label/N422ds2x_label.tif')\n",
    "#l,c = np.unique(label, return_counts = True)"
   ]
  },
  {
   "cell_type": "code",
   "execution_count": 3,
   "metadata": {},
   "outputs": [],
   "source": [
    "cell = label == 2\n",
    "sphericity = run.cell_spericity(cell)\n"
   ]
  },
  {
   "cell_type": "markdown",
   "metadata": {},
   "source": [
    "# Test for whole image"
   ]
  },
  {
   "cell_type": "code",
   "execution_count": 10,
   "metadata": {},
   "outputs": [
    {
     "data": {
      "text/plain": [
       "2"
      ]
     },
     "execution_count": 10,
     "metadata": {},
     "output_type": "execute_result"
    }
   ],
   "source": []
  },
  {
   "cell_type": "code",
   "execution_count": null,
   "metadata": {},
   "outputs": [],
   "source": [
    "# test for whole data set"
   ]
  },
  {
   "cell_type": "code",
   "execution_count": 7,
   "metadata": {},
   "outputs": [
    {
     "name": "stdout",
     "output_type": "stream",
     "text": [
      "Progression:  0.20449897750511248   100  of  489\n",
      "Progression:  0.40899795501022496   200  of  489\n",
      "Progression:  0.6134969325153374   300  of  489\n",
      "Progression:  0.8179959100204499   400  of  489\n",
      "Progression:  0.14104372355430184   100  of  709\n",
      "Progression:  0.2820874471086037   200  of  709\n",
      "Progression:  0.4231311706629055   300  of  709\n",
      "Progression:  0.5641748942172073   400  of  709\n",
      "Progression:  0.7052186177715092   500  of  709\n",
      "Progression:  0.846262341325811   600  of  709\n",
      "Progression:  0.9873060648801129   700  of  709\n"
     ]
    }
   ],
   "source": [
    "DATASET_PATH = \"/scratch/ottosson/datasets\"\n",
    "dataset = 'SAM_SMALL'\n",
    "label_path = os.path.join(DATASET_PATH,\n",
    "                            dataset,\n",
    "                         'label')\n",
    "sphers_dict = run.folder_spericity(label_path, background_labels=[0,1])\n"
   ]
  },
  {
   "cell_type": "code",
   "execution_count": 9,
   "metadata": {},
   "outputs": [
    {
     "data": {
      "text/plain": [
       "dict_keys(['sample74', 'sample123'])"
      ]
     },
     "execution_count": 9,
     "metadata": {},
     "output_type": "execute_result"
    }
   ],
   "source": [
    "sphers_dict.keys()\n"
   ]
  },
  {
   "cell_type": "code",
   "execution_count": 29,
   "metadata": {},
   "outputs": [],
   "source": [
    "means = dict()\n",
    "stds = dict()\n",
    "totals = []\n",
    "for k,v in sphers_dict.items():\n",
    "    means[k]= np.nanmean(v)\n",
    "    stds[k]= np.nanstd(v)\n",
    "    totals.extend(v)\n",
    "\n",
    "\n"
   ]
  },
  {
   "cell_type": "code",
   "execution_count": 18,
   "metadata": {},
   "outputs": [
    {
     "data": {
      "text/plain": [
       "dict_keys(['sample74', 'sample123'])"
      ]
     },
     "execution_count": 18,
     "metadata": {},
     "output_type": "execute_result"
    }
   ],
   "source": [
    "sphers_dict.keys()"
   ]
  },
  {
   "cell_type": "code",
   "execution_count": 19,
   "metadata": {},
   "outputs": [
    {
     "data": {
      "text/plain": [
       "(array([  2.,   2.,  18.,  56., 186.,  96.,  33.,  47.,  39.,   9.]),\n",
       " array([0.62746984, 0.67330866, 0.71914748, 0.7649863 , 0.81082512,\n",
       "        0.85666394, 0.90250276, 0.94834159, 0.99418041, 1.04001923,\n",
       "        1.08585805]),\n",
       " <BarContainer object of 10 artists>)"
      ]
     },
     "execution_count": 19,
     "metadata": {},
     "output_type": "execute_result"
    },
    {
     "data": {
      "image/png": "[encoded data removed]",
      "text/plain": [
       "<Figure size 432x288 with 1 Axes>"
      ]
     },
     "metadata": {
      "needs_background": "light"
     },
     "output_type": "display_data"
    }
   ],
   "source": [
    "plt.hist(sphers_dict['sample74'])"
   ]
  },
  {
   "cell_type": "code",
   "execution_count": 20,
   "metadata": {},
   "outputs": [
    {
     "data": {
      "text/plain": [
       "(array([  1.,   2.,   2.,   9., 128., 388.,  52.,  46.,  55.,  25.]),\n",
       " array([0.60388597, 0.65074328, 0.69760058, 0.74445789, 0.79131519,\n",
       "        0.83817249, 0.8850298 , 0.9318871 , 0.97874441, 1.02560171,\n",
       "        1.07245902]),\n",
       " <BarContainer object of 10 artists>)"
      ]
     },
     "execution_count": 20,
     "metadata": {},
     "output_type": "execute_result"
    },
    {
     "data": {
      "image/png": "[encoded data removed]",
      "text/plain": [
       "<Figure size 432x288 with 1 Axes>"
      ]
     },
     "metadata": {
      "needs_background": "light"
     },
     "output_type": "display_data"
    }
   ],
   "source": [
    "plt.hist(sphers_dict['sample123'])"
   ]
  },
  {
   "cell_type": "code",
   "execution_count": 16,
   "metadata": {},
   "outputs": [
    {
     "data": {
      "text/plain": [
       "(array([  2.,   4.,  10.,  46., 348., 502.,  63.,  94., 110.,  17.]),\n",
       " array([0.60388597, 0.65208318, 0.70028039, 0.7484776 , 0.7966748 ,\n",
       "        0.84487201, 0.89306922, 0.94126643, 0.98946363, 1.03766084,\n",
       "        1.08585805]),\n",
       " <BarContainer object of 10 artists>)"
      ]
     },
     "execution_count": 16,
     "metadata": {},
     "output_type": "execute_result"
    },
    {
     "data": {
      "image/png": "[encoded data removed]",
      "text/plain": [
       "<Figure size 432x288 with 1 Axes>"
      ]
     },
     "metadata": {
      "needs_background": "light"
     },
     "output_type": "display_data"
    }
   ],
   "source": [
    "plt.hist(totals)"
   ]
  },
  {
   "cell_type": "code",
   "execution_count": 21,
   "metadata": {},
   "outputs": [
    {
     "data": {
      "text/plain": [
       "{'sample74': 0.8705203762047912, 'sample123': 0.8770964185762787}"
      ]
     },
     "execution_count": 21,
     "metadata": {},
     "output_type": "execute_result"
    }
   ],
   "source": [
    "means"
   ]
  },
  {
   "cell_type": "code",
   "execution_count": 31,
   "metadata": {},
   "outputs": [],
   "source": [
    "save_path = os.path.join(DATASET_PATH,'FM', 'dataframes','spher_total.csv')\n",
    "pd.DataFrame(data = {'sphericity': totals}).to_csv(save_path, index = False)"
   ]
  },
  {
   "cell_type": "code",
   "execution_count": 30,
   "metadata": {},
   "outputs": [],
   "source": [
    "\n",
    "save_path = os.path.join(DATASET_PATH, 'FM', 'dataframes','spher_means.csv')\n",
    "pd.DataFrame(data = [means, stds], index = ['mean', 'std']).to_csv(save_path)"
   ]
  },
  {
   "cell_type": "code",
   "execution_count": null,
   "metadata": {},
   "outputs": [],
   "source": []
  }
 ],
 "metadata": {
  "interpreter": {
   "hash": "71a96282e064c3fe1026227c1ada8ee3cb1d3b966426962c8187027067177868"
  },
  "kernelspec": {
   "display_name": "Python 3.8.12 ('napari-test')",
   "language": "python",
   "name": "python3"
  },
  "language_info": {
   "codemirror_mode": {
    "name": "ipython",
    "version": 3
   },
   "file_extension": ".py",
   "mimetype": "text/x-python",
   "name": "python",
   "nbconvert_exporter": "python",
   "pygments_lexer": "ipython3",
   "version": "3.8.12"
  },
  "orig_nbformat": 4
 },
 "nbformat": 4,
 "nbformat_minor": 2
}
