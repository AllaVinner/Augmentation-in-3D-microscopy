{
 "cells": [
  {
   "cell_type": "code",
   "execution_count": null,
   "metadata": {},
   "outputs": [],
   "source": [
    "import skimage\n",
    "import matplotlib.pyplot as plt\n",
    "import jseg\n",
    "from jseg.data import overlapping_circles, OVERLAPPING_CIRCLE_TYPES"
   ]
  },
  {
   "cell_type": "markdown",
   "metadata": {},
   "source": [
    "## Overlapping Circles"
   ]
  },
  {
   "cell_type": "code",
   "execution_count": null,
   "metadata": {},
   "outputs": [],
   "source": [
    "# Print all the different overlapping situation \n",
    "shape = (100, 100)\n",
    "fig,axs = plt.subplots(2,len(OVERLAPPING_CIRCLE_TYPES))\n",
    "fig.set_size_inches(20,6)\n",
    "for i,segmentation_type in enumerate(OVERLAPPING_CIRCLE_TYPES):\n",
    "    label, segmentation = overlapping_circles(segmentation_type= segmentation_type,\n",
    "                                            background_label = 0,\n",
    "                                            shape = shape)\n",
    "    axs[0,i].imshow(label)\n",
    "    axs[1,i].imshow(segmentation)\n",
    "    axs[0,i].set_title(segmentation_type)\n",
    "    axs[0,i].set_ylabel(\"Label\")\n",
    "    axs[1,i].set_ylabel(\"Segmentation\")"
   ]
  }
 ],
 "metadata": {
  "language_info": {
   "name": "python"
  },
  "orig_nbformat": 4
 },
 "nbformat": 4,
 "nbformat_minor": 2
}
