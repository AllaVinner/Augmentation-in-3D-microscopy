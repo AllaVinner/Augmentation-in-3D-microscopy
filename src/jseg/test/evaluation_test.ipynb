{
 "cells": [
  {
   "cell_type": "code",
   "execution_count": 1,
   "metadata": {},
   "outputs": [],
   "source": [
    "import skimage\n",
    "import matplotlib.pyplot as plt\n",
    "import jseg\n",
    "from jseg.data import overlapping_circles\n",
    "from jseg.evaluation import segmentation_type\n",
    "from skimage.metrics import variation_of_information, adapted_rand_error, contingency_table\n",
    "import numpy as np\n",
    "import jseg.evaluation as jeval\n",
    "from collections import defaultdict"
   ]
  },
  {
   "cell_type": "markdown",
   "metadata": {},
   "source": [
    "## Overlapping Circles"
   ]
  },
  {
   "cell_type": "code",
   "execution_count": 2,
   "metadata": {},
   "outputs": [
    {
     "data": {
      "text/plain": [
       "['extra-segmentation',\n",
       " 'missed-segmentation',\n",
       " 'correct-segmentation',\n",
       " 'over-segmentation',\n",
       " 'under-segmentation',\n",
       " 'divergent-segmentation']"
      ]
     },
     "execution_count": 2,
     "metadata": {},
     "output_type": "execute_result"
    }
   ],
   "source": [
    "jeval.SEGMENTATION_TYPES"
   ]
  },
  {
   "cell_type": "code",
   "execution_count": 3,
   "metadata": {},
   "outputs": [
    {
     "name": "stdout",
     "output_type": "stream",
     "text": [
      "RATES: correct 1.0 over 0.0 under 0.0 miss 0.0 divergent 0.0\n",
      "Over segmentation:  0.0  Under segmentation:  0.0  Adapted random Error:  0.0  ar-prec:  1.0  ar rec:  1.0\n",
      "  (1, 5)\t650909.0\n",
      "  (2, 5)\t152798.0\n",
      "  (3, 3)\t196293.0\n"
     ]
    },
    {
     "data": {
      "image/png": "[encoded data removed]",
      "text/plain": [
       "<Figure size 504x216 with 2 Axes>"
      ]
     },
     "metadata": {
      "needs_background": "light"
     },
     "output_type": "display_data"
    }
   ],
   "source": [
    "# Print all the different overlapping situation \n",
    "shape = (1000, 1000)\n",
    "fig,axs = plt.subplots(1,2)\n",
    "fig.set_size_inches(7,3)\n",
    "label, segmentation = overlapping_circles(segmentation_type= 'missed-segmentation',\n",
    "                                            background_label = 1,\n",
    "                                            shape = shape,\n",
    "                                            label_shift = False)\n",
    "segmentation[segmentation == 1] = 5\n",
    "axs[0].imshow(label)\n",
    "axs[0].set_title(\"Label\")\n",
    "axs[1].imshow(segmentation)\n",
    "axs[1].set_title(\"Segmentation\")\n",
    "\n",
    "num_gt = len(np.unique(label))-1\n",
    "ct = contingency_table(label, segmentation, ignore_labels=(0,), normalize=False)\n",
    "ct1 = contingency_table(label, segmentation, ignore_labels=(1,), normalize=False)\n",
    "ov, un = variation_of_information(label, segmentation, table = ct1)\n",
    "are, prec, rec = adapted_rand_error(label, segmentation,table = ct1)\n",
    "cor ,ovr, unr, mir, dir =  segmentation_type(ct,num_gt, background_label=1)\n",
    "print(f\"RATES: correct {cor} over {ovr} under {unr} miss {mir} divergent {dir}\")\n",
    "print(\"Over segmentation: \", ov, \" Under segmentation: \", un, \" Adapted random Error: \", are, \" ar-prec: \", prec, \" ar rec: \", rec)\n",
    "print(ct)\n"
   ]
  },
  {
   "cell_type": "code",
   "execution_count": 39,
   "metadata": {},
   "outputs": [
    {
     "data": {
      "text/plain": [
       "0.7784179772075418"
      ]
     },
     "execution_count": 39,
     "metadata": {},
     "output_type": "execute_result"
    }
   ],
   "source": [
    "vij = get_vji(label, segmentation, 1)\n",
    "vij"
   ]
  },
  {
   "cell_type": "code",
   "execution_count": 28,
   "metadata": {},
   "outputs": [],
   "source": [
    "def create_connections(cont_table):\n",
    "    ct = cont_table\n",
    "    g2p = dict()\n",
    "    g2max = defaultdict(int)\n",
    "    p2g = dict()\n",
    "    p2max = defaultdict(int)\n",
    "    for g, p, val in zip(ct.tocoo().row ,ct.tocoo().col,ct.tocoo().data):\n",
    "        if val >= g2max[g]:\n",
    "            g2max[g] = val\n",
    "            g2p[g] = p\n",
    "        if val >= p2max[p]:\n",
    "            p2max[p] = val\n",
    "            p2g[p] = g    \n",
    "\n",
    "    # create connections\n",
    "    connections = set()\n",
    "    temp_con = []\n",
    "    for g,p in g2p.items():\n",
    "        temp_con.append([(g,p))\n",
    "\n",
    "    for p,g in p2g.items():\n",
    "        temp_con.append((g,p))\n",
    "    connections.update(temp_con)\n",
    "    return connections"
   ]
  },
  {
   "cell_type": "code",
   "execution_count": 25,
   "metadata": {},
   "outputs": [
    {
     "data": {
      "text/plain": [
       "[{'gs': {1}, 'ps': {3}, 'segmentation-type': 'extra-background-segmentation'},\n",
       " {'gs': {2}, 'ps': {2}, 'segmentation-type': 'correct-segmentation'}]"
      ]
     },
     "execution_count": 25,
     "metadata": {},
     "output_type": "execute_result"
    }
   ],
   "source": []
  },
  {
   "cell_type": "code",
   "execution_count": 30,
   "metadata": {},
   "outputs": [
    {
     "data": {
      "text/plain": [
       "[{'gs': {2}, 'ps': {2, 3}, 'segmentation-type': 'over-segmentation'}]"
      ]
     },
     "execution_count": 30,
     "metadata": {},
     "output_type": "execute_result"
    }
   ],
   "source": [
    "\n",
    "connections = create_connections(ct)\n",
    "background_label = bg\n",
    "connections.remove((background_label, background_label))\n",
    "\n",
    "# calculate clusters\n",
    "clusters = []\n",
    "for g,p in connections:\n",
    "    g_match = False\n",
    "    p_match = False\n",
    "    if g != background_label:\n",
    "        for ci_g,cluster in enumerate(clusters):\n",
    "            if not cluster['gs'].isdisjoint([g]):\n",
    "                g_match = True\n",
    "                break\n",
    "        \n",
    "    if p != background_label:\n",
    "        for ci_p, cluster in enumerate(clusters):\n",
    "            if not cluster['ps'].isdisjoint([p]):\n",
    "                p_match = True\n",
    "                break\n",
    "    if not g_match and not p_match:\n",
    "        clusters.append({'gs':{g},'ps': {p}})\n",
    "    elif g_match and not p_match:\n",
    "        clusters[ci_g]['gs'].update([g])\n",
    "        clusters[ci_g]['ps'].update([p])\n",
    "    elif not g_match and p_match:\n",
    "        clusters[ci_p]['gs'].update([g])\n",
    "        clusters[ci_p]['ps'].update([p])\n",
    "    elif ci_g == ci_p:\n",
    "        # They are the same\n",
    "        clusters[ci_g]['gs'].update([g])\n",
    "        clusters[ci_g]['ps'].update([p])\n",
    "    elif ci_g != ci_p:\n",
    "        base_index = max(ci_g, ci_p)\n",
    "        append_index = min(ci_g, ci_p)\n",
    "        append_cluster = clusters.pop(append_index)\n",
    "        clusters[base_index]['gs'].update(append_cluster['gs'])\n",
    "        clusters[base_index]['ps'].update(append_cluster['ps'])\n",
    "# Take away the \n",
    "\n",
    "for cluster in clusters:\n",
    "    num_gs = len(cluster['gs'])\n",
    "    num_ps = len(cluster['ps'])\n",
    "    bg_in_gs = background_label in cluster['gs']\n",
    "    bg_in_ps = background_label in cluster['ps']\n",
    "    assert num_gs > 0, \"Most be atleast one ground node in cluster\"\n",
    "    assert num_ps > 0, \"Most be atleast one prediction node in cluster\"\n",
    "    assert not (bg_in_gs and bg_in_ps), \"Background can't be in both\"\n",
    "    if bg_in_gs or bg_in_ps:\n",
    "        if num_gs == 1 and num_ps == 1:\n",
    "            if bg_in_gs:\n",
    "                cluster['segmentation-type'] = \"extra-background-segmentation\"\n",
    "            elif bg_in_ps:\n",
    "                cluster['segmentation-type'] = \"missed-background-segmentation\"\n",
    "            else: \n",
    "                assert False, \"Should never get here\"\n",
    "        elif num_gs == 1 and num_ps > 1:\n",
    "            cluster['segmentation-type'] = \"over-background-segmentation\"\n",
    "        elif num_gs > 1 and num_ps == 1:\n",
    "            cluster['segmentation-type'] = \"under-background-segmentation\"\n",
    "        else:\n",
    "            cluster['segmentation-type'] = \"divergent-background-segmentation\"\n",
    "    else: \n",
    "        if num_gs == 1 and num_ps == 1: \n",
    "            if bg_in_gs:\n",
    "                cluster['segmentation-type'] = \"background-segmentation\"\n",
    "            elif bg_in_ps:\n",
    "                cluster['segmentation-type'] = \"missed-segmentation\"\n",
    "            else:\n",
    "                cluster['segmentation-type'] = \"correct-segmentation\"\n",
    "        elif num_gs == 1 and num_ps > 1:\n",
    "            cluster['segmentation-type'] = \"over-segmentation\"\n",
    "        elif num_gs > 1 and num_ps == 1:\n",
    "            cluster['segmentation-type'] = \"under-segmentation\"\n",
    "        else:\n",
    "            cluster['segmentation-type'] = \"divergent-segmentation\"\n",
    "# merge background and cell clusters\n",
    "clusters"
   ]
  },
  {
   "cell_type": "code",
   "execution_count": null,
   "metadata": {},
   "outputs": [],
   "source": []
  },
  {
   "cell_type": "markdown",
   "metadata": {},
   "source": [
    "# Finding\n",
    "\n",
    "## Adaptive random error\n",
    "Goes between 0 - 1 where 0 is the best. It is not sensitive to that label and segmentation might be labeled differently.\n",
    "\n",
    "## Contingency table\n",
    "Get all pairs that overlap and calculates how much they overlapp. This is sparse matrix of shape (max_true+1, max_pred+1)"
   ]
  },
  {
   "cell_type": "markdown",
   "metadata": {},
   "source": [
    "## Test evaluation method"
   ]
  },
  {
   "cell_type": "code",
   "execution_count": 4,
   "metadata": {},
   "outputs": [],
   "source": [
    "gt_dir = \"/scratch/ottosson/datasets/FM/data/label\"\n",
    "pr_dir = \"/scratch/ottosson/datasets/FM/data/plantseg_0/segmentation\"\n",
    "data_df = jeval.evaluate_plantseg(gt_dir, pr_dir)"
   ]
  },
  {
   "cell_type": "code",
   "execution_count": 27,
   "metadata": {},
   "outputs": [],
   "source": [
    "def get_vji(ground_truth, prediction, background_label):\n",
    "    gt_unique = np.unique(ground_truth)\n",
    "    pr_unique = np.unique(prediction)\n",
    "    total_g = 0\n",
    "    total_val = 0\n",
    "    for g in gt_unique:\n",
    "        if g == background_label: continue\n",
    "        g_coords = np.where(ground_truth == g)\n",
    "        g_set = set((coord) for coord in zip(*g_coords))\n",
    "        total_g += len(g_set)\n",
    "        best_p = -1\n",
    "        best_val = -1\n",
    "        for p in pr_unique:\n",
    "            if p == background_label: continue\n",
    "            p_coords = np.where(prediction == p)\n",
    "            p_set = set((coord) for coord in zip(*p_coords))\n",
    "            val = len(g_set)*len(g_set.intersection(p_set))/len(g_set.union(p_set))\n",
    "            if val >= best_val:\n",
    "                best_val = val\n",
    "                best_p = p\n",
    "        total_val += best_val\n",
    "    return total_val / total_g\n",
    "\n"
   ]
  },
  {
   "cell_type": "code",
   "execution_count": 13,
   "metadata": {},
   "outputs": [],
   "source": [
    "a = set((4,5,5))\n",
    "b = set((6,7,1,2,3,4))"
   ]
  },
  {
   "cell_type": "code",
   "execution_count": 16,
   "metadata": {},
   "outputs": [
    {
     "data": {
      "text/plain": [
       "{1, 2, 3, 4, 5, 6, 7}"
      ]
     },
     "execution_count": 16,
     "metadata": {},
     "output_type": "execute_result"
    }
   ],
   "source": [
    "a.union(b)"
   ]
  },
  {
   "cell_type": "code",
   "execution_count": 10,
   "metadata": {},
   "outputs": [
    {
     "data": {
      "text/plain": [
       "{(0, 0), (0, 1), (0, 2), (0, 3), (1, 0), (1, 1), (1, 2), (2, 3)}"
      ]
     },
     "execution_count": 10,
     "metadata": {},
     "output_type": "execute_result"
    }
   ],
   "source": [
    "set((r,c) for r,c, in zip(rows, cols))\n"
   ]
  },
  {
   "cell_type": "code",
   "execution_count": 11,
   "metadata": {},
   "outputs": [],
   "source": [
    "    with open(config_file, 'w') as outfile:\n",
    "        yaml.dump(con, outfile, default_flow_style=False)"
   ]
  },
  {
   "cell_type": "code",
   "execution_count": null,
   "metadata": {},
   "outputs": [],
   "source": []
  }
 ],
 "metadata": {
  "interpreter": {
   "hash": "9869ba7a0cc20e7907cb266d743dfcfe55e22aefffbead1a9795d3f328907fa2"
  },
  "kernelspec": {
   "display_name": "Python 3.8.11 64-bit ('jenv': conda)",
   "language": "python",
   "name": "python3"
  },
  "language_info": {
   "codemirror_mode": {
    "name": "ipython",
    "version": 3
   },
   "file_extension": ".py",
   "mimetype": "text/x-python",
   "name": "python",
   "nbconvert_exporter": "python",
   "pygments_lexer": "ipython3",
   "version": "3.8.11"
  },
  "orig_nbformat": 4
 },
 "nbformat": 4,
 "nbformat_minor": 2
}
