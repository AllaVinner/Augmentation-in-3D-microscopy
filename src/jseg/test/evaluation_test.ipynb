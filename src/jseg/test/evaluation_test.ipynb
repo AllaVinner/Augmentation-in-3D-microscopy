{
 "cells": [
  {
   "cell_type": "code",
   "execution_count": 1,
   "metadata": {},
   "outputs": [],
   "source": [
    "import skimage\n",
    "import matplotlib.pyplot as plt\n",
    "import jseg\n",
    "from jseg.data import overlapping_circles\n",
    "from jseg.evaluation import segmentation_type\n",
    "from skimage.metrics import variation_of_information, adapted_rand_error, contingency_table\n",
    "import numpy as np\n",
    "import jseg.evaluation as jeval\n",
    "from collections import defaultdict"
   ]
  },
  {
   "cell_type": "markdown",
   "metadata": {},
   "source": [
    "## Overlapping Circles"
   ]
  },
  {
   "cell_type": "code",
   "execution_count": 3,
   "metadata": {},
   "outputs": [
    {
     "data": {
      "text/plain": [
       "['extra-segmentation',\n",
       " 'missed-segmentation',\n",
       " 'correct-segmentation',\n",
       " 'over-segmentation',\n",
       " 'under-segmentation',\n",
       " 'divergent-segmentation']"
      ]
     },
     "execution_count": 3,
     "metadata": {},
     "output_type": "execute_result"
    }
   ],
   "source": [
    "# Which segmentatons types are available\n",
    "jeval.SEGMENTATION_TYPES"
   ]
  },
  {
   "cell_type": "code",
   "execution_count": 8,
   "metadata": {},
   "outputs": [
    {
     "name": "stdout",
     "output_type": "stream",
     "text": [
      "RATES: correct 0.5, over 0.0, under 0.0, miss 0.5, divergent 0.0\n",
      "Over segmentation:  0.0  Under segmentation:  0.0  Adapted random Error:  0.0  ar-prec:  1.0  ar rec:  1.0\n"
     ]
    },
    {
     "data": {
      "image/png": "[encoded data removed]",
      "text/plain": [
       "<Figure size 504x216 with 2 Axes>"
      ]
     },
     "metadata": {
      "needs_background": "light"
     },
     "output_type": "display_data"
    }
   ],
   "source": [
    "# Plot a segmentation type and the corresponding values\n",
    "## Setup figure\n",
    "shape = (1000, 1000)\n",
    "fig,axs = plt.subplots(1,2)\n",
    "fig.set_size_inches(7,3)\n",
    "\n",
    "## Get iamges\n",
    "label, segmentation = overlapping_circles(segmentation_type= 'missed-segmentation',\n",
    "                                            background_label = 1,\n",
    "                                            shape = shape,\n",
    "                                            label_shift = False)\n",
    "\n",
    "\n",
    "## Plot images\n",
    "axs[0].imshow(label)\n",
    "axs[0].set_title(\"Label\")\n",
    "axs[1].imshow(segmentation)\n",
    "axs[1].set_title(\"Segmentation\")\n",
    "\n",
    "# Calculate measures of segmentation\n",
    "num_gt = len(np.unique(label))-1\n",
    "ct = contingency_table(label, segmentation, ignore_labels=(0,), normalize=False)\n",
    "ct1 = contingency_table(label, segmentation, ignore_labels=(1,), normalize=False)\n",
    "ov, un = variation_of_information(label, segmentation, table = ct1)\n",
    "are, prec, rec = adapted_rand_error(label, segmentation,table = ct1)\n",
    "cor ,ovr, unr, mir, dir =  segmentation_type(ct,num_gt, background_label=1)\n",
    "print(f\"RATES: correct {cor}, over {ovr}, under {unr}, miss {mir}, divergent {dir}\")\n",
    "print(\"Over segmentation: \", ov, \" Under segmentation: \", un, \" Adapted random Error: \", are, \" ar-prec: \", prec, \" ar rec: \", rec)\n",
    "\n"
   ]
  },
  {
   "cell_type": "code",
   "execution_count": null,
   "metadata": {},
   "outputs": [],
   "source": []
  }
 ],
 "metadata": {
  "interpreter": {
   "hash": "9869ba7a0cc20e7907cb266d743dfcfe55e22aefffbead1a9795d3f328907fa2"
  },
  "kernelspec": {
   "display_name": "Python 3.8.11 64-bit ('jenv': conda)",
   "language": "python",
   "name": "python3"
  },
  "language_info": {
   "codemirror_mode": {
    "name": "ipython",
    "version": 3
   },
   "file_extension": ".py",
   "mimetype": "text/x-python",
   "name": "python",
   "nbconvert_exporter": "python",
   "pygments_lexer": "ipython3",
   "version": "3.9.7"
  },
  "orig_nbformat": 4
 },
 "nbformat": 4,
 "nbformat_minor": 2
}
