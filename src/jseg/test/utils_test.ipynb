{
 "cells": [
  {
   "cell_type": "code",
   "execution_count": 1,
   "metadata": {},
   "outputs": [],
   "source": [
    "from jseg import utils\n"
   ]
  },
  {
   "cell_type": "code",
   "execution_count": 6,
   "metadata": {},
   "outputs": [],
   "source": [
    "gt_dir = \"/scratch/ottosson/datasets/FM/data/label\"\n",
    "pr_dir = \"/scratch/ottosson/datasets/FM/data/plantseg_0/segmentation\"\n",
    "plantseg_gen = utils.plantseg_sample_generator(gt_dir, pr_dir)"
   ]
  },
  {
   "cell_type": "code",
   "execution_count": 7,
   "metadata": {},
   "outputs": [
    {
     "name": "stdout",
     "output_type": "stream",
     "text": [
      "24h_segmented.tif 24h_predictions_gasp_average.tif\n",
      "56h_segmented.tif 56h_predictions_gasp_average.tif\n",
      "120h_segmented.tif 120h_predictions_gasp_average.tif\n",
      "72h_segmented.tif 72h_predictions_gasp_average.tif\n",
      "44h_segmented.tif 44h_predictions_gasp_average.tif\n",
      "32h_segmented.tif 32h_predictions_gasp_average.tif\n",
      "132h_segmented.tif 132h_predictions_gasp_average.tif\n",
      "26h_segmented.tif 26h_predictions_gasp_average.tif\n",
      "69h_segmented.tif 69h_predictions_gasp_average.tif\n",
      "0h_segmented.tif 0h_predictions_gasp_average.tif\n"
     ]
    }
   ],
   "source": [
    "for gt, pr, gt_f, pr_f in plantseg_gen:\n",
    "    print(gt_f, pr_f)\n"
   ]
  },
  {
   "cell_type": "code",
   "execution_count": null,
   "metadata": {},
   "outputs": [],
   "source": []
  }
 ],
 "metadata": {
  "interpreter": {
   "hash": "9869ba7a0cc20e7907cb266d743dfcfe55e22aefffbead1a9795d3f328907fa2"
  },
  "kernelspec": {
   "display_name": "Python 3.8.11 64-bit ('jenv': conda)",
   "language": "python",
   "name": "python3"
  },
  "language_info": {
   "codemirror_mode": {
    "name": "ipython",
    "version": 3
   },
   "file_extension": ".py",
   "mimetype": "text/x-python",
   "name": "python",
   "nbconvert_exporter": "python",
   "pygments_lexer": "ipython3",
   "version": "3.8.11"
  },
  "orig_nbformat": 4
 },
 "nbformat": 4,
 "nbformat_minor": 2
}
